{
 "cells": [
  {
   "cell_type": "code",
   "execution_count": 2,
   "id": "bf01742f-9080-4a58-ae83-5fe0ceb30488",
   "metadata": {},
   "outputs": [],
   "source": [
    "from transformers import AutoTokenizer, BartForConditionalGeneration\n",
    "from rouge_score import rouge_scorer\n",
    "import pandas as pd"
   ]
  },
  {
   "cell_type": "code",
   "execution_count": 15,
   "id": "b285cf2e-8ebe-4507-9c3f-4d2c346bb431",
   "metadata": {},
   "outputs": [],
   "source": [
    "def summarise(text):\n",
    "    out_out = ''\n",
    "    print(len(text.split()))\n",
    "    for part in range(len(text.split())//1024+1):\n",
    "        inputs = tokenizer([text[1024*5*part:(part+1)*1024*5]], max_length=1024, return_tensors=\"pt\").to('cuda')\n",
    "        summary_ids = model.generate(inputs[\"input_ids\"], num_beams=2, min_length=0, max_length=512).to('cuda')\n",
    "        out_out = out_out + tokenizer.batch_decode(summary_ids, skip_special_tokens=True, clean_up_tokenization_spaces=False)[0]\n",
    "    if len(out_out.split()) <= 350:\n",
    "        return out_out\n",
    "    else:\n",
    "        return summarise(out_out)"
   ]
  },
  {
   "cell_type": "code",
   "execution_count": 9,
   "id": "046b61e9-9a36-4dda-9199-4ab75ba78bce",
   "metadata": {},
   "outputs": [
    {
     "name": "stdout",
     "output_type": "stream",
     "text": [
      "INFO: Pandarallel will run on 40 workers.\n",
      "INFO: Pandarallel will use Memory file system to transfer data between the main process and workers.\n"
     ]
    }
   ],
   "source": [
    "from pandarallel import pandarallel\n",
    "pandarallel.initialize(progress_bar=True, nb_workers=40)"
   ]
  },
  {
   "cell_type": "code",
   "execution_count": 10,
   "id": "d8a4d897-63e2-43ee-a150-9261d42198d6",
   "metadata": {},
   "outputs": [
    {
     "data": {
      "application/vnd.jupyter.widget-view+json": {
       "model_id": "137fd36289204d95bb542c817edfd566",
       "version_major": 2,
       "version_minor": 0
      },
      "text/plain": [
       "VBox(children=(HBox(children=(IntProgress(value=0, description='0.00%', max=13), Label(value='0 / 13'))), HBox…"
      ]
     },
     "metadata": {},
     "output_type": "display_data"
    }
   ],
   "source": [
    "test_list = pd.read_feather('/home/aikatsnelson/prj1407/dataset/test3.feather')\n",
    "test_list = test_list['filename']\n",
    "test_data = test_list.parallel_apply(pd.read_feather)\n",
    "df = pd.concat(test_data.to_list())"
   ]
  },
  {
   "cell_type": "code",
   "execution_count": 11,
   "id": "d0eb1e0b-6225-4003-91dd-df21ff7a26b1",
   "metadata": {},
   "outputs": [],
   "source": [
    "def get_score(vals):\n",
    "    target, pred = vals['pred'], vals['Annotation']\n",
    "    scores = scorer.score(target, pred)\n",
    "    return scores['rouge1'][0], scores['rouge1'][1], scores['rouge1'][2], \\\n",
    "           scores['rouge2'][0], scores['rouge2'][1], scores['rouge2'][2], \\\n",
    "           scores['rouge3'][0], scores['rouge3'][1], scores['rouge3'][2], \\\n",
    "           scores['rougeL'][0], scores['rougeL'][1], scores['rougeL'][2]"
   ]
  },
  {
   "cell_type": "code",
   "execution_count": null,
   "id": "5b4fd9ad-7732-491a-a219-31a111331d3c",
   "metadata": {},
   "outputs": [
    {
     "name": "stdout",
     "output_type": "stream",
     "text": [
      "kworts/BARTxiv\n"
     ]
    },
    {
     "name": "stderr",
     "output_type": "stream",
     "text": [
      "Truncation was not explicitly activated but `max_length` is provided a specific value, please use `truncation=True` to explicitly truncate examples to max length. Defaulting to 'longest_first' truncation strategy. If you encode pairs of sequences (GLUE-style) with the tokenizer you can select this strategy more precisely by providing a specific strategy to `truncation`.\n"
     ]
    },
    {
     "name": "stdout",
     "output_type": "stream",
     "text": [
      "8828\n",
      "674\n",
      "8718\n",
      "506\n",
      "3228\n",
      "6605\n"
     ]
    }
   ],
   "source": [
    "model_names = ['kworts/BARTxiv']\n",
    "for model_name in model_names:\n",
    "    print(model_name)\n",
    "    model = BartForConditionalGeneration.from_pretrained(model_name).to('cuda')\n",
    "    tokenizer = AutoTokenizer.from_pretrained(model_name)\n",
    "    scorer = rouge_scorer.RougeScorer(['rouge1', 'rouge2', 'rouge3', 'rougeL'], use_stemmer=True, tokenizer=tokenizer)\n",
    "    df['pred'] = df['Latex'].iloc[:5].apply(summarise)\n",
    "    df[['rouge1_pr', 'rouge1_rec', 'rouge1_f1', 'rouge2_pr', 'rouge2_rec', 'rouge2_f1', 'rouge3_pr', 'rouge3_rec', 'rouge3_f1', 'rougeL_pr', 'rougeL_rec', 'rougeL_f1']] = df[['pred', 'Annotation']].apply(func=get_score, axis=1, result_type='expand')"
   ]
  },
  {
   "cell_type": "code",
   "execution_count": null,
   "id": "424fb0ad-00e0-4f6d-805c-4d9b630c7f03",
   "metadata": {},
   "outputs": [],
   "source": [
    "df[['rouge1_pr', 'rouge1_rec', 'rouge1_f1', 'rouge2_pr', 'rouge2_rec', 'rouge2_f1', 'rouge3_pr', 'rouge3_rec', 'rouge3_f1', 'rougeL_pr', 'rougeL_rec', 'rougeL_f1']]\n"
   ]
  },
  {
   "cell_type": "code",
   "execution_count": 19,
   "id": "1aa67ce9-b9d3-4558-b838-461cef253766",
   "metadata": {},
   "outputs": [
    {
     "data": {
      "text/plain": [
       "{'rouge1': Score(precision=0.165821868211441, recall=0.5654320987654321, fmeasure=0.25643896976483765),\n",
       " 'rouge2': Score(precision=0.07318840579710145, recall=0.25, fmeasure=0.11322869955156951),\n",
       " 'rouge3': Score(precision=0.03335750543872371, recall=0.1141439205955335, fmeasure=0.051627384960718295),\n",
       " 'rougeL': Score(precision=0.07530774800868936, recall=0.25679012345679014, fmeasure=0.11646136618141097)}"
      ]
     },
     "execution_count": 19,
     "metadata": {},
     "output_type": "execute_result"
    }
   ],
   "source": [
    "scorer.score(df['Annotation'].iloc[0], df['pred'].iloc[0])"
   ]
  },
  {
   "cell_type": "code",
   "execution_count": null,
   "id": "38bbc1e2-2919-4a79-8e6a-02169614f122",
   "metadata": {},
   "outputs": [],
   "source": []
  }
 ],
 "metadata": {
  "kernelspec": {
   "display_name": "Google Colab GPU Python 3.7 [python-colab_gpu_py37]",
   "language": "python",
   "name": "conda-env-python-colab_gpu_py37-py"
  },
  "language_info": {
   "codemirror_mode": {
    "name": "ipython",
    "version": 3
   },
   "file_extension": ".py",
   "mimetype": "text/x-python",
   "name": "python",
   "nbconvert_exporter": "python",
   "pygments_lexer": "ipython3",
   "version": "3.7.12"
  }
 },
 "nbformat": 4,
 "nbformat_minor": 5
}
